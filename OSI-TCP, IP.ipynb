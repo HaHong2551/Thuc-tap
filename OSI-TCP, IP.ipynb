{
 "cells": [
  {
   "cell_type": "markdown",
   "metadata": {},
   "source": [
    "\n",
    "# OSI Model (Open Systems Interconnection)\n",
    "Nhằm tạo ra chuẩn giao tiếp chung khi tích hợp nhiều nhà cùng cấp. Mô hình OSI bao gồm 7 tầng. Mỗi tầng đều có đặc tính là chỉ sử dụng chức năng của tầng dưới nó và chức năng của mình.\n",
    "*7 tầng  của OSI có 3 tầng dưới được thực hiện trên kênh truyền( định nghĩa thiết bị phần cứng cho kết nối); 4 tầng trên thực hiện trên các host( giao tiếp người dùng)*\n",
    "1. Physical(Bits)\n",
    " Biến đổi dòng bit logic thành tín hiệu vật lý phù hợp với đường truyền vật lý (ở bên phát) và ngược lại ( ở ben thu): điều chế/ giải điều chế, biến đổi và khôi phục tín hiệu.\n",
    "2. Data Link(Frames)\n",
    " -Phát hiện và sửa lối khi truyền dữ liệu giữa các thực thể trong mạng(switch, router, thiết bị đầu cuối)\n",
    " -Nhận dữ liệu từ lớp Netwwork, đóng gói dữ liệu lớp Network vào các khung( frame) phù hợp với mạng vật lý\n",
    "3. Network (Packets)\n",
    " -Định tuyến trên một mạng gồm nhiều nút trung gian giữa nguồn và đích\n",
    " -Đánh địa chỉ lớp mạng\n",
    "4. Transport (Segments)\n",
    " -Chia nhỏ các gói tin có kích thước lớn khi gửi và tập hợp lại khi nhận\n",
    " -Đảm bảo truyền dữ liệu tin cậy giữa 2 thiết bị đầu cuối\n",
    "5. Session (Data)\n",
    " - Quản lý các kết nối được thiết lập trên cùng một máy tính từ một hay nhiều ứng dụng khác nhau.\n",
    " - Cung cấp cơ chế nhận biết tên và chức năng về bảo mật thông tin khi truyền qua mạng máy tính\n",
    "6. Presentation (Data)\n",
    " - Biến đổi định dạng dữ liệu từ các ứng dụng thành một định dạng chung được quy định bởi thiết bị đầu cuối. Đảm bảo cho các máy tính có định dạng dữ liệu khác nhau vẫn có thể truyền thông tin với nhau bình thường.\n",
    "7. Application (Data)\n",
    "Cung cấp các giao diện lập trình cho ứng dụng của người sử dụng\n",
    "# TCP/IP \n",
    "Mô hình TCP/IP có các chức năng tương đương với mô hình OSI nhưng chỉ có 4 tầng\n",
    "1. Network Access\n",
    " - Physical: Biến đổi dòng bít logic thành tín hiệu vật lý phù hợp với đường truyền vật lý\n",
    " - MAC( Medium Access Control): Lớp điều khiển truy nhập \n",
    "    - Quy định đánh điạ chỉ và điều khiển truy nhập kênh cho các thiết bị mạng\n",
    " - LLC( Logiccal Link Control)\n",
    "    - Ghép kênh\n",
    "    - Điều khiển luồng\n",
    "2. Internet Layer\n",
    " - Nhiệm vụ của tầng mạng trên mô hình TCP/IP là giải quyết vấn đề các gói tin qua các mạng để đến đúng đích mong muốn\n",
    "3. Transport Layer\n",
    " - Phân nhỏ các gói tin có kích thước lớn khi gửi và tập hợp lại khi nhận, đảm bảo tính toàn vẹn cho dữ liệu.\n",
    "4. Application Layer\n",
    "- Giống mô hình OSI\n",
    "# OSI and TCP/IP Model Comparison\n",
    "\n"
   ]
  },
  {
   "cell_type": "markdown",
   "metadata": {},
   "source": []
  }
 ],
 "metadata": {
  "language_info": {
   "name": "python"
  },
  "orig_nbformat": 4
 },
 "nbformat": 4,
 "nbformat_minor": 2
}
